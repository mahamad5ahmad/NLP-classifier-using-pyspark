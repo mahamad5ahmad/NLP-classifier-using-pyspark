{
  "cells": [
    {
      "cell_type": "markdown",
      "id": "fa486f23",
      "metadata": {
        "id": "fa486f23"
      },
      "source": [
        "![image.png](attachment:image.png)"
      ]
    },
    {
      "cell_type": "markdown",
      "id": "abbf1e33",
      "metadata": {
        "id": "abbf1e33"
      },
      "source": [
        "##### **Good luck with taking your exam. Keep working and make your dreams all come true. Seeing the results of all of your hard work will make this struggle worth it. We’re all thinking of you.** \n",
        "<b><font color='blue'>AI-PRO Spark Team ITI</font></b>"
      ]
    },
    {
      "cell_type": "markdown",
      "id": "c9da32d6",
      "metadata": {
        "id": "c9da32d6"
      },
      "source": [
        "# NLP Using PySpark"
      ]
    },
    {
      "cell_type": "markdown",
      "id": "8326ba88",
      "metadata": {
        "id": "8326ba88"
      },
      "source": [
        "## Objective:\n",
        "- The objective from this project is to create a <b>Spam filter using NaiveBayes classifier</b>.\n",
        "- It is required to obtain <b>f1_scored > 0.9</b>.\n",
        "- We'll use a dataset from UCI Repository. SMS Spam Detection: https://archive.ics.uci.edu/ml/datasets/SMS+Spam+Collection\n",
        "- Data is also provided for you in the assignment (you do not have to download it)."
      ]
    },
    {
      "cell_type": "markdown",
      "id": "6971f788",
      "metadata": {
        "id": "6971f788"
      },
      "source": [
        "## To perform this task follow the following guiding steps:"
      ]
    },
    {
      "cell_type": "markdown",
      "id": "e31bc851",
      "metadata": {
        "id": "e31bc851"
      },
      "source": [
        "### Create a spark session and import the required libraries"
      ]
    },
    {
      "cell_type": "code",
      "source": [
        "pip install pyspark"
      ],
      "metadata": {
        "colab": {
          "base_uri": "https://localhost:8080/"
        },
        "id": "Lc_oFo2WhE3z",
        "outputId": "a1e360cc-1501-4062-ae39-97dff22b2248"
      },
      "id": "Lc_oFo2WhE3z",
      "execution_count": 2,
      "outputs": [
        {
          "output_type": "stream",
          "name": "stdout",
          "text": [
            "Looking in indexes: https://pypi.org/simple, https://us-python.pkg.dev/colab-wheels/public/simple/\n",
            "Collecting pyspark\n",
            "  Downloading pyspark-3.3.0.tar.gz (281.3 MB)\n",
            "\u001b[K     |████████████████████████████████| 281.3 MB 47 kB/s \n",
            "\u001b[?25hCollecting py4j==0.10.9.5\n",
            "  Downloading py4j-0.10.9.5-py2.py3-none-any.whl (199 kB)\n",
            "\u001b[K     |████████████████████████████████| 199 kB 41.8 MB/s \n",
            "\u001b[?25hBuilding wheels for collected packages: pyspark\n",
            "  Building wheel for pyspark (setup.py) ... \u001b[?25l\u001b[?25hdone\n",
            "  Created wheel for pyspark: filename=pyspark-3.3.0-py2.py3-none-any.whl size=281764026 sha256=558deaa7cd53cfe74aaf48cc13d0b13b687b84c7035c1fc44d44bf47b8449ca0\n",
            "  Stored in directory: /root/.cache/pip/wheels/7a/8e/1b/f73a52650d2e5f337708d9f6a1750d451a7349a867f928b885\n",
            "Successfully built pyspark\n",
            "Installing collected packages: py4j, pyspark\n",
            "Successfully installed py4j-0.10.9.5 pyspark-3.3.0\n"
          ]
        }
      ]
    },
    {
      "cell_type": "code",
      "execution_count": 3,
      "id": "dcf86e46",
      "metadata": {
        "id": "dcf86e46"
      },
      "outputs": [],
      "source": [
        "import pyspark\n",
        "from pyspark.sql import SparkSession\n",
        "spark = SparkSession.builder.getOrCreate()"
      ]
    },
    {
      "cell_type": "markdown",
      "id": "90c7df9e",
      "metadata": {
        "id": "90c7df9e"
      },
      "source": [
        "### Read the readme file to learn more about the data"
      ]
    },
    {
      "cell_type": "markdown",
      "id": "2d00718f",
      "metadata": {
        "id": "2d00718f"
      },
      "source": [
        "### Read the data into a DataFrame"
      ]
    },
    {
      "cell_type": "code",
      "execution_count": 19,
      "id": "29914cf1",
      "metadata": {
        "id": "29914cf1"
      },
      "outputs": [],
      "source": [
        "df = spark.read.csv('SMSSpamCollection.txt',sep='\\t',inferSchema=True)"
      ]
    },
    {
      "cell_type": "markdown",
      "id": "182cd7f6",
      "metadata": {
        "id": "182cd7f6"
      },
      "source": [
        "### Print the schema"
      ]
    },
    {
      "cell_type": "code",
      "execution_count": 20,
      "id": "b52706b9",
      "metadata": {
        "colab": {
          "base_uri": "https://localhost:8080/"
        },
        "id": "b52706b9",
        "outputId": "ebde8859-1055-431a-f6e0-735b58e3717c"
      },
      "outputs": [
        {
          "output_type": "stream",
          "name": "stdout",
          "text": [
            "root\n",
            " |-- _c0: string (nullable = true)\n",
            " |-- _c1: string (nullable = true)\n",
            "\n"
          ]
        }
      ],
      "source": [
        "df.printSchema()"
      ]
    },
    {
      "cell_type": "code",
      "source": [
        "df.show(5)"
      ],
      "metadata": {
        "colab": {
          "base_uri": "https://localhost:8080/"
        },
        "id": "mXQgU1H9iDJU",
        "outputId": "cae8469f-40bb-4021-f1ef-0599c2a9cfe9"
      },
      "id": "mXQgU1H9iDJU",
      "execution_count": 23,
      "outputs": [
        {
          "output_type": "stream",
          "name": "stdout",
          "text": [
            "+----+--------------------+\n",
            "| _c0|                 _c1|\n",
            "+----+--------------------+\n",
            "| ham|Go until jurong p...|\n",
            "| ham|Ok lar... Joking ...|\n",
            "|spam|Free entry in 2 a...|\n",
            "| ham|U dun say so earl...|\n",
            "| ham|Nah I don't think...|\n",
            "+----+--------------------+\n",
            "only showing top 5 rows\n",
            "\n"
          ]
        }
      ]
    },
    {
      "cell_type": "markdown",
      "id": "2b90cce7",
      "metadata": {
        "id": "2b90cce7"
      },
      "source": [
        "### Rename the first column to 'class' and second column to 'text'"
      ]
    },
    {
      "cell_type": "code",
      "execution_count": 24,
      "id": "f1a88df6",
      "metadata": {
        "scrolled": false,
        "id": "f1a88df6"
      },
      "outputs": [],
      "source": [
        "df2=df.withColumnRenamed(\"_c0\",\"class\").withColumnRenamed(\"_c1\",\"text\")"
      ]
    },
    {
      "cell_type": "code",
      "execution_count": 25,
      "id": "62a544fc",
      "metadata": {
        "colab": {
          "base_uri": "https://localhost:8080/"
        },
        "id": "62a544fc",
        "outputId": "f17183a9-3039-4802-c6e4-b3e2a3776fbe"
      },
      "outputs": [
        {
          "output_type": "stream",
          "name": "stdout",
          "text": [
            "+-----+--------------------+\n",
            "|class|                text|\n",
            "+-----+--------------------+\n",
            "|  ham|Go until jurong p...|\n",
            "|  ham|Ok lar... Joking ...|\n",
            "| spam|Free entry in 2 a...|\n",
            "+-----+--------------------+\n",
            "only showing top 3 rows\n",
            "\n"
          ]
        }
      ],
      "source": [
        "df2.show(3)"
      ]
    },
    {
      "cell_type": "markdown",
      "id": "a3e798d0",
      "metadata": {
        "id": "a3e798d0"
      },
      "source": [
        "### Show the first 10 rows from the dataframe\n",
        "- Show once with truncate=True and once with truncate=False"
      ]
    },
    {
      "cell_type": "code",
      "source": [
        "df2.show(10,truncate=False)"
      ],
      "metadata": {
        "colab": {
          "base_uri": "https://localhost:8080/"
        },
        "id": "qbTela2fkBWC",
        "outputId": "45a6bc49-9214-4b74-f20c-0ee9468d2bee"
      },
      "id": "qbTela2fkBWC",
      "execution_count": 26,
      "outputs": [
        {
          "output_type": "stream",
          "name": "stdout",
          "text": [
            "+-----+----------------------------------------------------------------------------------------------------------------------------------------------------------------+\n",
            "|class|text                                                                                                                                                            |\n",
            "+-----+----------------------------------------------------------------------------------------------------------------------------------------------------------------+\n",
            "|ham  |Go until jurong point, crazy.. Available only in bugis n great world la e buffet... Cine there got amore wat...                                                 |\n",
            "|ham  |Ok lar... Joking wif u oni...                                                                                                                                   |\n",
            "|spam |Free entry in 2 a wkly comp to win FA Cup final tkts 21st May 2005. Text FA to 87121 to receive entry question(std txt rate)T&C's apply 08452810075over18's     |\n",
            "|ham  |U dun say so early hor... U c already then say...                                                                                                               |\n",
            "|ham  |Nah I don't think he goes to usf, he lives around here though                                                                                                   |\n",
            "|spam |FreeMsg Hey there darling it's been 3 week's now and no word back! I'd like some fun you up for it still? Tb ok! XxX std chgs to send, £1.50 to rcv             |\n",
            "|ham  |Even my brother is not like to speak with me. They treat me like aids patent.                                                                                   |\n",
            "|ham  |As per your request 'Melle Melle (Oru Minnaminunginte Nurungu Vettam)' has been set as your callertune for all Callers. Press *9 to copy your friends Callertune|\n",
            "|spam |WINNER!! As a valued network customer you have been selected to receivea £900 prize reward! To claim call 09061701461. Claim code KL341. Valid 12 hours only.   |\n",
            "|spam |Had your mobile 11 months or more? U R entitled to Update to the latest colour mobiles with camera for Free! Call The Mobile Update Co FREE on 08002986030      |\n",
            "+-----+----------------------------------------------------------------------------------------------------------------------------------------------------------------+\n",
            "only showing top 10 rows\n",
            "\n"
          ]
        }
      ]
    },
    {
      "cell_type": "code",
      "source": [
        "df2.show(10)"
      ],
      "metadata": {
        "colab": {
          "base_uri": "https://localhost:8080/"
        },
        "id": "p6rg9Y03kBhh",
        "outputId": "d12bf191-7628-428f-cedd-52986e0d3764"
      },
      "id": "p6rg9Y03kBhh",
      "execution_count": 27,
      "outputs": [
        {
          "output_type": "stream",
          "name": "stdout",
          "text": [
            "+-----+--------------------+\n",
            "|class|                text|\n",
            "+-----+--------------------+\n",
            "|  ham|Go until jurong p...|\n",
            "|  ham|Ok lar... Joking ...|\n",
            "| spam|Free entry in 2 a...|\n",
            "|  ham|U dun say so earl...|\n",
            "|  ham|Nah I don't think...|\n",
            "| spam|FreeMsg Hey there...|\n",
            "|  ham|Even my brother i...|\n",
            "|  ham|As per your reque...|\n",
            "| spam|WINNER!! As a val...|\n",
            "| spam|Had your mobile 1...|\n",
            "+-----+--------------------+\n",
            "only showing top 10 rows\n",
            "\n"
          ]
        }
      ]
    },
    {
      "cell_type": "markdown",
      "id": "2fe744a9",
      "metadata": {
        "id": "2fe744a9"
      },
      "source": [
        "## Clean and Prepare the Data"
      ]
    },
    {
      "cell_type": "markdown",
      "id": "4d693167",
      "metadata": {
        "id": "4d693167"
      },
      "source": [
        "### Create a new feature column contains the length of the text column"
      ]
    },
    {
      "cell_type": "code",
      "execution_count": 29,
      "id": "5424a0cb",
      "metadata": {
        "id": "5424a0cb"
      },
      "outputs": [],
      "source": [
        "import pyspark.sql.functions as F\n",
        "df3=df2.withColumn('lengthoftext', F.length('text'))"
      ]
    },
    {
      "cell_type": "code",
      "source": [
        "df3.show()"
      ],
      "metadata": {
        "colab": {
          "base_uri": "https://localhost:8080/"
        },
        "id": "OzRg4ISbkrQG",
        "outputId": "f6817793-8ae6-4323-bb2a-ea386890c25e"
      },
      "id": "OzRg4ISbkrQG",
      "execution_count": 30,
      "outputs": [
        {
          "output_type": "stream",
          "name": "stdout",
          "text": [
            "+-----+--------------------+------------+\n",
            "|class|                text|lengthoftext|\n",
            "+-----+--------------------+------------+\n",
            "|  ham|Go until jurong p...|         111|\n",
            "|  ham|Ok lar... Joking ...|          29|\n",
            "| spam|Free entry in 2 a...|         155|\n",
            "|  ham|U dun say so earl...|          49|\n",
            "|  ham|Nah I don't think...|          61|\n",
            "| spam|FreeMsg Hey there...|         147|\n",
            "|  ham|Even my brother i...|          77|\n",
            "|  ham|As per your reque...|         160|\n",
            "| spam|WINNER!! As a val...|         157|\n",
            "| spam|Had your mobile 1...|         154|\n",
            "|  ham|I'm gonna be home...|         109|\n",
            "| spam|SIX chances to wi...|         136|\n",
            "| spam|URGENT! You have ...|         155|\n",
            "|  ham|I've been searchi...|         196|\n",
            "|  ham|I HAVE A DATE ON ...|          35|\n",
            "| spam|XXXMobileMovieClu...|         149|\n",
            "|  ham|Oh k...i'm watchi...|          26|\n",
            "|  ham|Eh u remember how...|          81|\n",
            "|  ham|Fine if thats th...|          56|\n",
            "| spam|England v Macedon...|         155|\n",
            "+-----+--------------------+------------+\n",
            "only showing top 20 rows\n",
            "\n"
          ]
        }
      ]
    },
    {
      "cell_type": "markdown",
      "id": "692e37a6",
      "metadata": {
        "id": "692e37a6"
      },
      "source": [
        "### Get the average text length for each class (give alias name to the average length column)"
      ]
    },
    {
      "cell_type": "code",
      "source": [
        "df3.groupBy(\"class\").avg(\"lengthoftext\").show(truncate=False)"
      ],
      "metadata": {
        "colab": {
          "base_uri": "https://localhost:8080/"
        },
        "id": "RFsTV_fZlJ_y",
        "outputId": "cd565d52-4401-4c70-afd6-7dd3b6fe78f0"
      },
      "id": "RFsTV_fZlJ_y",
      "execution_count": 31,
      "outputs": [
        {
          "output_type": "stream",
          "name": "stdout",
          "text": [
            "+-----+-----------------+\n",
            "|class|avg(lengthoftext)|\n",
            "+-----+-----------------+\n",
            "|ham  |71.45431945307645|\n",
            "|spam |138.6706827309237|\n",
            "+-----+-----------------+\n",
            "\n"
          ]
        }
      ]
    },
    {
      "cell_type": "markdown",
      "id": "d5e101af",
      "metadata": {
        "id": "d5e101af"
      },
      "source": [
        "## Feature Transformations"
      ]
    },
    {
      "cell_type": "markdown",
      "id": "838ad9dd",
      "metadata": {
        "id": "838ad9dd"
      },
      "source": [
        "### In this part you transform you raw text in to tf_idf model :\n",
        "- For more information about TF-IDF check the following link: <b>(Not needed for the test)</b>\n",
        "https://en.wikipedia.org/wiki/Tf%E2%80%93idf"
      ]
    },
    {
      "cell_type": "markdown",
      "id": "225067d5",
      "metadata": {
        "id": "225067d5"
      },
      "source": [
        "### Perform the following steps to obtain TF-IDF:\n",
        "1. Import the required transformers/estimators for the subsequent steps.\n",
        "2. Create a <b>Tokenizer</b> from the text column.\n",
        "3. Create a <b>StopWordsRemover</b> to remove the <b>stop words</b> from the column obtained from the <b>Tokenizer</b>.\n",
        "4. Create a <b>CountVectorizer</b> after removing the <b>stop words</b>.\n",
        "5. Create the <b>TF-IDF</b> from the <b>CountVectorizer</b>."
      ]
    },
    {
      "cell_type": "code",
      "source": [
        "from pyspark.ml.feature import *"
      ],
      "metadata": {
        "id": "wAN1lw1nmo8Y"
      },
      "id": "wAN1lw1nmo8Y",
      "execution_count": 39,
      "outputs": []
    },
    {
      "cell_type": "code",
      "execution_count": 40,
      "id": "6a4eebf8",
      "metadata": {
        "colab": {
          "base_uri": "https://localhost:8080/"
        },
        "id": "6a4eebf8",
        "outputId": "e2c0ce77-2de4-467f-efd6-6a139066fa4d"
      },
      "outputs": [
        {
          "output_type": "stream",
          "name": "stdout",
          "text": [
            "+-----+-----------------------------------------------------------------------------------------------------------------------------------------------------------+------------+----------------------------------------------------------------------------------------------------------------------------------------------------------------------------------------+\n",
            "|class|text                                                                                                                                                       |lengthoftext|words                                                                                                                                                                                   |\n",
            "+-----+-----------------------------------------------------------------------------------------------------------------------------------------------------------+------------+----------------------------------------------------------------------------------------------------------------------------------------------------------------------------------------+\n",
            "|ham  |Go until jurong point, crazy.. Available only in bugis n great world la e buffet... Cine there got amore wat...                                            |111         |[go, until, jurong, point,, crazy.., available, only, in, bugis, n, great, world, la, e, buffet..., cine, there, got, amore, wat...]                                                    |\n",
            "|ham  |Ok lar... Joking wif u oni...                                                                                                                              |29          |[ok, lar..., joking, wif, u, oni...]                                                                                                                                                    |\n",
            "|spam |Free entry in 2 a wkly comp to win FA Cup final tkts 21st May 2005. Text FA to 87121 to receive entry question(std txt rate)T&C's apply 08452810075over18's|155         |[free, entry, in, 2, a, wkly, comp, to, win, fa, cup, final, tkts, 21st, may, 2005., text, fa, to, 87121, to, receive, entry, question(std, txt, rate)t&c's, apply, 08452810075over18's]|\n",
            "+-----+-----------------------------------------------------------------------------------------------------------------------------------------------------------+------------+----------------------------------------------------------------------------------------------------------------------------------------------------------------------------------------+\n",
            "only showing top 3 rows\n",
            "\n"
          ]
        }
      ],
      "source": [
        "tokenizer = Tokenizer(outputCol=\"words\")\n",
        "tokenizer.setInputCol(\"text\")\n",
        "\n",
        "df4=tokenizer.transform(df3)\n",
        "df4.show(3,truncate=False)"
      ]
    },
    {
      "cell_type": "code",
      "execution_count": 47,
      "id": "b82756db",
      "metadata": {
        "colab": {
          "base_uri": "https://localhost:8080/"
        },
        "id": "b82756db",
        "outputId": "3aced24a-5c38-4e08-de45-7a767402bfc4"
      },
      "outputs": [
        {
          "output_type": "stream",
          "name": "stdout",
          "text": [
            "+-----+--------------------+------------+--------------------+--------------------+\n",
            "|class|                text|lengthoftext|               words|           stopwords|\n",
            "+-----+--------------------+------------+--------------------+--------------------+\n",
            "|  ham|Go until jurong p...|         111|[go, until, juron...|[go, until, juron...|\n",
            "|  ham|Ok lar... Joking ...|          29|[ok, lar..., joki...|[ok, lar..., joki...|\n",
            "| spam|Free entry in 2 a...|         155|[free, entry, in,...|[free, entry, in,...|\n",
            "+-----+--------------------+------------+--------------------+--------------------+\n",
            "only showing top 3 rows\n",
            "\n"
          ]
        }
      ],
      "source": [
        "#any some stop words\n",
        "remover = StopWordsRemover(stopWords=[\"a\",\"an\"])\n",
        "\n",
        "remover.setInputCol(\"words\")\n",
        "remover.setOutputCol(\"stopwords\")\n",
        "\n",
        "\n",
        "df5=remover.transform(df4)\n",
        "df5.show(3)"
      ]
    },
    {
      "cell_type": "code",
      "source": [
        "cv = CountVectorizer()\n",
        "cv.setInputCol(\"stopwords\")\n",
        "cv.setOutputCol(\"CV\")\n",
        "\n",
        "model = cv.fit(df5)\n",
        "\n",
        "model.setInputCol(\"stopwords\")\n",
        "df6=model.transform(df5)\n",
        "df6.show(3,truncate=False)"
      ],
      "metadata": {
        "colab": {
          "base_uri": "https://localhost:8080/"
        },
        "id": "BNuVG_PaovdK",
        "outputId": "d47fbe12-0e11-4103-bd20-c0dc515cd3bb"
      },
      "id": "BNuVG_PaovdK",
      "execution_count": 50,
      "outputs": [
        {
          "output_type": "stream",
          "name": "stdout",
          "text": [
            "+-----+-----------------------------------------------------------------------------------------------------------------------------------------------------------+------------+----------------------------------------------------------------------------------------------------------------------------------------------------------------------------------------+-------------------------------------------------------------------------------------------------------------------------------------------------------------------------------------+----------------------------------------------------------------------------------------------------------------------------------------------------------------------------------------------------+\n",
            "|class|text                                                                                                                                                       |lengthoftext|words                                                                                                                                                                                   |stopwords                                                                                                                                                                            |CV                                                                                                                                                                                                  |\n",
            "+-----+-----------------------------------------------------------------------------------------------------------------------------------------------------------+------------+----------------------------------------------------------------------------------------------------------------------------------------------------------------------------------------+-------------------------------------------------------------------------------------------------------------------------------------------------------------------------------------+----------------------------------------------------------------------------------------------------------------------------------------------------------------------------------------------------+\n",
            "|ham  |Go until jurong point, crazy.. Available only in bugis n great world la e buffet... Cine there got amore wat...                                            |111         |[go, until, jurong, point,, crazy.., available, only, in, bugis, n, great, world, la, e, buffet..., cine, there, got, amore, wat...]                                                    |[go, until, jurong, point,, crazy.., available, only, in, bugis, n, great, world, la, e, buffet..., cine, there, got, amore, wat...]                                                 |(13585,[7,41,51,63,82,88,131,142,403,455,752,872,1570,1836,3476,7664,8913,9061,10391,13144],[1.0,1.0,1.0,1.0,1.0,1.0,1.0,1.0,1.0,1.0,1.0,1.0,1.0,1.0,1.0,1.0,1.0,1.0,1.0,1.0])                      |\n",
            "|ham  |Ok lar... Joking wif u oni...                                                                                                                              |29          |[ok, lar..., joking, wif, u, oni...]                                                                                                                                                    |[ok, lar..., joking, wif, u, oni...]                                                                                                                                                 |(13585,[4,74,405,587,2810,4717],[1.0,1.0,1.0,1.0,1.0,1.0])                                                                                                                                          |\n",
            "|spam |Free entry in 2 a wkly comp to win FA Cup final tkts 21st May 2005. Text FA to 87121 to receive entry question(std txt rate)T&C's apply 08452810075over18's|155         |[free, entry, in, 2, a, wkly, comp, to, win, fa, cup, final, tkts, 21st, may, 2005., text, fa, to, 87121, to, receive, entry, question(std, txt, rate)t&c's, apply, 08452810075over18's]|[free, entry, in, 2, wkly, comp, to, win, fa, cup, final, tkts, 21st, may, 2005., text, fa, to, 87121, to, receive, entry, question(std, txt, rate)t&c's, apply, 08452810075over18's]|(13585,[0,7,19,54,67,81,166,246,288,416,572,603,757,988,1087,2155,2171,2507,2624,3231,3618,4028,5410],[3.0,1.0,1.0,1.0,1.0,1.0,1.0,1.0,1.0,2.0,1.0,1.0,1.0,1.0,1.0,1.0,1.0,2.0,1.0,1.0,1.0,1.0,1.0])|\n",
            "+-----+-----------------------------------------------------------------------------------------------------------------------------------------------------------+------------+----------------------------------------------------------------------------------------------------------------------------------------------------------------------------------------+-------------------------------------------------------------------------------------------------------------------------------------------------------------------------------------+----------------------------------------------------------------------------------------------------------------------------------------------------------------------------------------------------+\n",
            "only showing top 3 rows\n",
            "\n"
          ]
        }
      ]
    },
    {
      "cell_type": "code",
      "source": [
        "idf=IDF(inputCol=\"CV\", outputCol=\"tf-idf_features\")\n",
        "idfModel = idf.fit(df6)\n",
        "df7= idfModel.transform(df6)\n",
        "df7.show(3,truncate=False)"
      ],
      "metadata": {
        "colab": {
          "base_uri": "https://localhost:8080/"
        },
        "id": "2XSkJzZ5ovng",
        "outputId": "3d62c72e-4a3f-4a24-d245-95ed4b9b52a2"
      },
      "id": "2XSkJzZ5ovng",
      "execution_count": 54,
      "outputs": [
        {
          "output_type": "stream",
          "name": "stdout",
          "text": [
            "+-----+-----------------------------------------------------------------------------------------------------------------------------------------------------------+------------+----------------------------------------------------------------------------------------------------------------------------------------------------------------------------------------+-------------------------------------------------------------------------------------------------------------------------------------------------------------------------------------+----------------------------------------------------------------------------------------------------------------------------------------------------------------------------------------------------+----------------------------------------------------------------------------------------------------------------------------------------------------------------------------------------------------------------------------------------------------------------------------------------------------------------------------------------------------------------------------------------------------------------------------------------------------------------------------------------------------------------------------------------+\n",
            "|class|text                                                                                                                                                       |lengthoftext|words                                                                                                                                                                                   |stopwords                                                                                                                                                                            |CV                                                                                                                                                                                                  |tf-idf_features                                                                                                                                                                                                                                                                                                                                                                                                                                                                                                                         |\n",
            "+-----+-----------------------------------------------------------------------------------------------------------------------------------------------------------+------------+----------------------------------------------------------------------------------------------------------------------------------------------------------------------------------------+-------------------------------------------------------------------------------------------------------------------------------------------------------------------------------------+----------------------------------------------------------------------------------------------------------------------------------------------------------------------------------------------------+----------------------------------------------------------------------------------------------------------------------------------------------------------------------------------------------------------------------------------------------------------------------------------------------------------------------------------------------------------------------------------------------------------------------------------------------------------------------------------------------------------------------------------------+\n",
            "|ham  |Go until jurong point, crazy.. Available only in bugis n great world la e buffet... Cine there got amore wat...                                            |111         |[go, until, jurong, point,, crazy.., available, only, in, bugis, n, great, world, la, e, buffet..., cine, there, got, amore, wat...]                                                    |[go, until, jurong, point,, crazy.., available, only, in, bugis, n, great, world, la, e, buffet..., cine, there, got, amore, wat...]                                                 |(13585,[7,41,51,63,82,88,131,142,403,455,752,872,1570,1836,3476,7664,8913,9061,10391,13144],[1.0,1.0,1.0,1.0,1.0,1.0,1.0,1.0,1.0,1.0,1.0,1.0,1.0,1.0,1.0,1.0,1.0,1.0,1.0,1.0])                      |(13585,[7,41,51,63,82,88,131,142,403,455,752,872,1570,1836,3476,7664,8913,9061,10391,13144],[1.970607245960672,3.1126188501633374,3.2055125970560336,3.4442640460362344,3.822026551595063,3.805766030723283,4.207206988531722,4.32198250312415,5.293843086153116,5.407171771460119,5.917997395226109,6.141140946540319,6.680137447273006,6.8342881271002645,7.52743530766021,7.9329004157683745,7.9329004157683745,7.9329004157683745,7.9329004157683745,7.9329004157683745])                                                           |\n",
            "|ham  |Ok lar... Joking wif u oni...                                                                                                                              |29          |[ok, lar..., joking, wif, u, oni...]                                                                                                                                                    |[ok, lar..., joking, wif, u, oni...]                                                                                                                                                 |(13585,[4,74,405,587,2810,4717],[1.0,1.0,1.0,1.0,1.0,1.0])                                                                                                                                          |(13585,[4,74,405,587,2810,4717],[2.016698353160939,3.5761915890787823,5.330210730323991,5.7356758384321544,7.239753235208429,7.52743530766021])                                                                                                                                                                                                                                                                                                                                                                                         |\n",
            "|spam |Free entry in 2 a wkly comp to win FA Cup final tkts 21st May 2005. Text FA to 87121 to receive entry question(std txt rate)T&C's apply 08452810075over18's|155         |[free, entry, in, 2, a, wkly, comp, to, win, fa, cup, final, tkts, 21st, may, 2005., text, fa, to, 87121, to, receive, entry, question(std, txt, rate)t&c's, apply, 08452810075over18's]|[free, entry, in, 2, wkly, comp, to, win, fa, cup, final, tkts, 21st, may, 2005., text, fa, to, 87121, to, receive, entry, question(std, txt, rate)t&c's, apply, 08452810075over18's]|(13585,[0,7,19,54,67,81,166,246,288,416,572,603,757,988,1087,2155,2171,2507,2624,3231,3618,4028,5410],[3.0,1.0,1.0,1.0,1.0,1.0,1.0,1.0,1.0,2.0,1.0,1.0,1.0,1.0,1.0,1.0,1.0,2.0,1.0,1.0,1.0,1.0,1.0])|(13585,[0,7,19,54,67,81,166,246,288,416,572,603,757,988,1087,2155,2171,2507,2624,3231,3618,4028,5410],[3.5949262673862785,1.970607245960672,2.704469176684504,3.332742771603827,3.5634525633013525,3.6702205387270586,4.421354976937353,4.841857962410058,5.099687071712158,11.070010285940008,5.681608617161879,5.7356758384321544,5.917997395226109,6.228152323529949,6.323462503334274,7.016609683894219,7.016609683894219,15.05487061532042,7.239753235208429,7.239753235208429,7.52743530766021,7.52743530766021,7.52743530766021])|\n",
            "+-----+-----------------------------------------------------------------------------------------------------------------------------------------------------------+------------+----------------------------------------------------------------------------------------------------------------------------------------------------------------------------------------+-------------------------------------------------------------------------------------------------------------------------------------------------------------------------------------+----------------------------------------------------------------------------------------------------------------------------------------------------------------------------------------------------+----------------------------------------------------------------------------------------------------------------------------------------------------------------------------------------------------------------------------------------------------------------------------------------------------------------------------------------------------------------------------------------------------------------------------------------------------------------------------------------------------------------------------------------+\n",
            "only showing top 3 rows\n",
            "\n"
          ]
        }
      ]
    },
    {
      "cell_type": "markdown",
      "id": "1527ad65",
      "metadata": {
        "id": "1527ad65"
      },
      "source": [
        "- Convert the <b>class column</b> to index using <b>StringIndexer</b>\n",
        "- Create feature column from the <b>TF-IDF</b> and <b>lenght</b> columns."
      ]
    },
    {
      "cell_type": "code",
      "execution_count": 67,
      "id": "aaf46159",
      "metadata": {
        "colab": {
          "base_uri": "https://localhost:8080/"
        },
        "id": "aaf46159",
        "outputId": "7c732637-bb0b-4a78-b011-69d4629f630d"
      },
      "outputs": [
        {
          "output_type": "stream",
          "name": "stdout",
          "text": [
            "+-----+-----------------------------------------------------------------------------------------------------------------------------------------------------------+------------+----------------------------------------------------------------------------------------------------------------------------------------------------------------------------------------+-------------------------------------------------------------------------------------------------------------------------------------------------------------------------------------+----------------------------------------------------------------------------------------------------------------------------------------------------------------------------------------------------+----------------------------------------------------------------------------------------------------------------------------------------------------------------------------------------------------------------------------------------------------------------------------------------------------------------------------------------------------------------------------------------------------------------------------------------------------------------------------------------------------------------------------------------+-----+\n",
            "|class|text                                                                                                                                                       |lengthoftext|words                                                                                                                                                                                   |stopwords                                                                                                                                                                            |CV                                                                                                                                                                                                  |tf-idf_features                                                                                                                                                                                                                                                                                                                                                                                                                                                                                                                         |label|\n",
            "+-----+-----------------------------------------------------------------------------------------------------------------------------------------------------------+------------+----------------------------------------------------------------------------------------------------------------------------------------------------------------------------------------+-------------------------------------------------------------------------------------------------------------------------------------------------------------------------------------+----------------------------------------------------------------------------------------------------------------------------------------------------------------------------------------------------+----------------------------------------------------------------------------------------------------------------------------------------------------------------------------------------------------------------------------------------------------------------------------------------------------------------------------------------------------------------------------------------------------------------------------------------------------------------------------------------------------------------------------------------+-----+\n",
            "|ham  |Go until jurong point, crazy.. Available only in bugis n great world la e buffet... Cine there got amore wat...                                            |111         |[go, until, jurong, point,, crazy.., available, only, in, bugis, n, great, world, la, e, buffet..., cine, there, got, amore, wat...]                                                    |[go, until, jurong, point,, crazy.., available, only, in, bugis, n, great, world, la, e, buffet..., cine, there, got, amore, wat...]                                                 |(13585,[7,41,51,63,82,88,131,142,403,455,752,872,1570,1836,3476,7664,8913,9061,10391,13144],[1.0,1.0,1.0,1.0,1.0,1.0,1.0,1.0,1.0,1.0,1.0,1.0,1.0,1.0,1.0,1.0,1.0,1.0,1.0,1.0])                      |(13585,[7,41,51,63,82,88,131,142,403,455,752,872,1570,1836,3476,7664,8913,9061,10391,13144],[1.970607245960672,3.1126188501633374,3.2055125970560336,3.4442640460362344,3.822026551595063,3.805766030723283,4.207206988531722,4.32198250312415,5.293843086153116,5.407171771460119,5.917997395226109,6.141140946540319,6.680137447273006,6.8342881271002645,7.52743530766021,7.9329004157683745,7.9329004157683745,7.9329004157683745,7.9329004157683745,7.9329004157683745])                                                           |0.0  |\n",
            "|ham  |Ok lar... Joking wif u oni...                                                                                                                              |29          |[ok, lar..., joking, wif, u, oni...]                                                                                                                                                    |[ok, lar..., joking, wif, u, oni...]                                                                                                                                                 |(13585,[4,74,405,587,2810,4717],[1.0,1.0,1.0,1.0,1.0,1.0])                                                                                                                                          |(13585,[4,74,405,587,2810,4717],[2.016698353160939,3.5761915890787823,5.330210730323991,5.7356758384321544,7.239753235208429,7.52743530766021])                                                                                                                                                                                                                                                                                                                                                                                         |0.0  |\n",
            "|spam |Free entry in 2 a wkly comp to win FA Cup final tkts 21st May 2005. Text FA to 87121 to receive entry question(std txt rate)T&C's apply 08452810075over18's|155         |[free, entry, in, 2, a, wkly, comp, to, win, fa, cup, final, tkts, 21st, may, 2005., text, fa, to, 87121, to, receive, entry, question(std, txt, rate)t&c's, apply, 08452810075over18's]|[free, entry, in, 2, wkly, comp, to, win, fa, cup, final, tkts, 21st, may, 2005., text, fa, to, 87121, to, receive, entry, question(std, txt, rate)t&c's, apply, 08452810075over18's]|(13585,[0,7,19,54,67,81,166,246,288,416,572,603,757,988,1087,2155,2171,2507,2624,3231,3618,4028,5410],[3.0,1.0,1.0,1.0,1.0,1.0,1.0,1.0,1.0,2.0,1.0,1.0,1.0,1.0,1.0,1.0,1.0,2.0,1.0,1.0,1.0,1.0,1.0])|(13585,[0,7,19,54,67,81,166,246,288,416,572,603,757,988,1087,2155,2171,2507,2624,3231,3618,4028,5410],[3.5949262673862785,1.970607245960672,2.704469176684504,3.332742771603827,3.5634525633013525,3.6702205387270586,4.421354976937353,4.841857962410058,5.099687071712158,11.070010285940008,5.681608617161879,5.7356758384321544,5.917997395226109,6.228152323529949,6.323462503334274,7.016609683894219,7.016609683894219,15.05487061532042,7.239753235208429,7.239753235208429,7.52743530766021,7.52743530766021,7.52743530766021])|1.0  |\n",
            "+-----+-----------------------------------------------------------------------------------------------------------------------------------------------------------+------------+----------------------------------------------------------------------------------------------------------------------------------------------------------------------------------------+-------------------------------------------------------------------------------------------------------------------------------------------------------------------------------------+----------------------------------------------------------------------------------------------------------------------------------------------------------------------------------------------------+----------------------------------------------------------------------------------------------------------------------------------------------------------------------------------------------------------------------------------------------------------------------------------------------------------------------------------------------------------------------------------------------------------------------------------------------------------------------------------------------------------------------------------------+-----+\n",
            "only showing top 3 rows\n",
            "\n"
          ]
        }
      ],
      "source": [
        "stringIndexer = StringIndexer(inputCol=\"class\", outputCol=\"label\")\n",
        "\n",
        "model = stringIndexer.fit(df7)\n",
        "\n",
        "\n",
        "df8 = model.transform(df7)\n",
        "df8.show(3,truncate=False)"
      ]
    },
    {
      "cell_type": "code",
      "execution_count": 69,
      "id": "ad9d4c52",
      "metadata": {
        "colab": {
          "base_uri": "https://localhost:8080/"
        },
        "id": "ad9d4c52",
        "outputId": "07c3748c-1c39-4808-ac09-2b420111a9b1"
      },
      "outputs": [
        {
          "output_type": "stream",
          "name": "stdout",
          "text": [
            "+-----+-----------------------------------------------------------------------------------------------------------------------------------------------------------+------------+----------------------------------------------------------------------------------------------------------------------------------------------------------------------------------------+-------------------------------------------------------------------------------------------------------------------------------------------------------------------------------------+---------------------------------------------------------------------------------------------------------------------------------------------------------------------------------------------------------------------------------------------------------------+--------------------------------------------------------------------------------------------------------------------------------------------------------------------------------------------------------------------------------------------------------------------------------------------------------------------------------------------------------------------------------------------------------------------------------------------------------------------------------------------------------------------------------------------------------------------------------------------------------------------------------------------------------------------------------------------------------------------+-----+-----------------------------------------------------------------------------------------------------------------------------------------------------------------------------------------------------------------------------------------------------------------------------------------------------------------------------------------------------------------------------------------------------------------------------------------------------------------------------------------------------------------------------------------------------------------------------------------------------------------------------------------------------------------------------------------------------------------------------+\n",
            "|class|text                                                                                                                                                       |lengthoftext|words                                                                                                                                                                                   |stopwords                                                                                                                                                                            |CV                                                                                                                                                                                                                                                             |tf-idf_features                                                                                                                                                                                                                                                                                                                                                                                                                                                                                                                                                                                                                                                                                                     |label|features                                                                                                                                                                                                                                                                                                                                                                                                                                                                                                                                                                                                                                                                                                                     |\n",
            "+-----+-----------------------------------------------------------------------------------------------------------------------------------------------------------+------------+----------------------------------------------------------------------------------------------------------------------------------------------------------------------------------------+-------------------------------------------------------------------------------------------------------------------------------------------------------------------------------------+---------------------------------------------------------------------------------------------------------------------------------------------------------------------------------------------------------------------------------------------------------------+--------------------------------------------------------------------------------------------------------------------------------------------------------------------------------------------------------------------------------------------------------------------------------------------------------------------------------------------------------------------------------------------------------------------------------------------------------------------------------------------------------------------------------------------------------------------------------------------------------------------------------------------------------------------------------------------------------------------+-----+-----------------------------------------------------------------------------------------------------------------------------------------------------------------------------------------------------------------------------------------------------------------------------------------------------------------------------------------------------------------------------------------------------------------------------------------------------------------------------------------------------------------------------------------------------------------------------------------------------------------------------------------------------------------------------------------------------------------------------+\n",
            "|ham  |Go until jurong point, crazy.. Available only in bugis n great world la e buffet... Cine there got amore wat...                                            |111         |[go, until, jurong, point,, crazy.., available, only, in, bugis, n, great, world, la, e, buffet..., cine, there, got, amore, wat...]                                                    |[go, until, jurong, point,, crazy.., available, only, in, bugis, n, great, world, la, e, buffet..., cine, there, got, amore, wat...]                                                 |(13585,[7,41,51,63,82,88,131,142,403,455,752,872,1570,1836,3476,7664,8913,9061,10391,13144],[1.0,1.0,1.0,1.0,1.0,1.0,1.0,1.0,1.0,1.0,1.0,1.0,1.0,1.0,1.0,1.0,1.0,1.0,1.0,1.0])                                                                                 |(13585,[7,41,51,63,82,88,131,142,403,455,752,872,1570,1836,3476,7664,8913,9061,10391,13144],[1.970607245960672,3.1126188501633374,3.2055125970560336,3.4442640460362344,3.822026551595063,3.805766030723283,4.207206988531722,4.32198250312415,5.293843086153116,5.407171771460119,5.917997395226109,6.141140946540319,6.680137447273006,6.8342881271002645,7.52743530766021,7.9329004157683745,7.9329004157683745,7.9329004157683745,7.9329004157683745,7.9329004157683745])                                                                                                                                                                                                                                       |0.0  |(13586,[0,8,42,52,64,83,89,132,143,404,456,753,873,1571,1837,3477,7665,8914,9062,10392,13145],[111.0,1.970607245960672,3.1126188501633374,3.2055125970560336,3.4442640460362344,3.822026551595063,3.805766030723283,4.207206988531722,4.32198250312415,5.293843086153116,5.407171771460119,5.917997395226109,6.141140946540319,6.680137447273006,6.8342881271002645,7.52743530766021,7.9329004157683745,7.9329004157683745,7.9329004157683745,7.9329004157683745,7.9329004157683745])                                                                                                                                                                                                                                        |\n",
            "|ham  |Ok lar... Joking wif u oni...                                                                                                                              |29          |[ok, lar..., joking, wif, u, oni...]                                                                                                                                                    |[ok, lar..., joking, wif, u, oni...]                                                                                                                                                 |(13585,[4,74,405,587,2810,4717],[1.0,1.0,1.0,1.0,1.0,1.0])                                                                                                                                                                                                     |(13585,[4,74,405,587,2810,4717],[2.016698353160939,3.5761915890787823,5.330210730323991,5.7356758384321544,7.239753235208429,7.52743530766021])                                                                                                                                                                                                                                                                                                                                                                                                                                                                                                                                                                     |0.0  |(13586,[0,5,75,406,588,2811,4718],[29.0,2.016698353160939,3.5761915890787823,5.330210730323991,5.7356758384321544,7.239753235208429,7.52743530766021])                                                                                                                                                                                                                                                                                                                                                                                                                                                                                                                                                                       |\n",
            "|spam |Free entry in 2 a wkly comp to win FA Cup final tkts 21st May 2005. Text FA to 87121 to receive entry question(std txt rate)T&C's apply 08452810075over18's|155         |[free, entry, in, 2, a, wkly, comp, to, win, fa, cup, final, tkts, 21st, may, 2005., text, fa, to, 87121, to, receive, entry, question(std, txt, rate)t&c's, apply, 08452810075over18's]|[free, entry, in, 2, wkly, comp, to, win, fa, cup, final, tkts, 21st, may, 2005., text, fa, to, 87121, to, receive, entry, question(std, txt, rate)t&c's, apply, 08452810075over18's]|(13585,[0,7,19,54,67,81,166,246,288,416,572,603,757,988,1087,2155,2171,2507,2624,3231,3618,4028,5410],[3.0,1.0,1.0,1.0,1.0,1.0,1.0,1.0,1.0,2.0,1.0,1.0,1.0,1.0,1.0,1.0,1.0,2.0,1.0,1.0,1.0,1.0,1.0])                                                           |(13585,[0,7,19,54,67,81,166,246,288,416,572,603,757,988,1087,2155,2171,2507,2624,3231,3618,4028,5410],[3.5949262673862785,1.970607245960672,2.704469176684504,3.332742771603827,3.5634525633013525,3.6702205387270586,4.421354976937353,4.841857962410058,5.099687071712158,11.070010285940008,5.681608617161879,5.7356758384321544,5.917997395226109,6.228152323529949,6.323462503334274,7.016609683894219,7.016609683894219,15.05487061532042,7.239753235208429,7.239753235208429,7.52743530766021,7.52743530766021,7.52743530766021])                                                                                                                                                                            |1.0  |(13586,[0,1,8,20,55,68,82,167,247,289,417,573,604,758,989,1088,2156,2172,2508,2625,3232,3619,4029,5411],[155.0,3.5949262673862785,1.970607245960672,2.704469176684504,3.332742771603827,3.5634525633013525,3.6702205387270586,4.421354976937353,4.841857962410058,5.099687071712158,11.070010285940008,5.681608617161879,5.7356758384321544,5.917997395226109,6.228152323529949,6.323462503334274,7.016609683894219,7.016609683894219,15.05487061532042,7.239753235208429,7.239753235208429,7.52743530766021,7.52743530766021,7.52743530766021])                                                                                                                                                                             |\n",
            "|ham  |U dun say so early hor... U c already then say...                                                                                                          |49          |[u, dun, say, so, early, hor..., u, c, already, then, say...]                                                                                                                           |[u, dun, say, so, early, hor..., u, c, already, then, say...]                                                                                                                        |(13585,[4,21,59,139,154,215,238,431,3121,3774],[2.0,1.0,1.0,1.0,1.0,1.0,1.0,1.0,1.0,1.0])                                                                                                                                                                      |(13585,[4,21,59,139,154,215,238,431,3121,3774],[4.033396706321878,2.642111315641129,3.3377805656337842,4.256599743861298,4.32198250312415,4.674803877746892,4.734227298217693,5.407171771460119,7.239753235208429,7.52743530766021])                                                                                                                                                                                                                                                                                                                                                                                                                                                                                |0.0  |(13586,[0,5,22,60,140,155,216,239,432,3122,3775],[49.0,4.033396706321878,2.642111315641129,3.3377805656337842,4.256599743861298,4.32198250312415,4.674803877746892,4.734227298217693,5.407171771460119,7.239753235208429,7.52743530766021])                                                                                                                                                                                                                                                                                                                                                                                                                                                                                  |\n",
            "|ham  |Nah I don't think he goes to usf, he lives around here though                                                                                              |61          |[nah, i, don't, think, he, goes, to, usf,, he, lives, around, here, though]                                                                                                             |[nah, i, don't, think, he, goes, to, usf,, he, lives, around, here, though]                                                                                                          |(13585,[0,1,65,86,93,143,221,415,674,1463,4380,4689],[1.0,1.0,2.0,1.0,1.0,1.0,1.0,1.0,1.0,1.0,1.0,1.0])                                                                                                                                                        |(13585,[0,1,65,86,93,143,221,415,674,1463,4380,4689],[1.1983087557954262,1.2464154437187664,7.39758782234223,3.8385558535462736,3.7977338590260183,4.256599743861298,4.7140245909001735,5.367951058306837,5.792834252272104,6.546606054648484,7.52743530766021,7.52743530766021])                                                                                                                                                                                                                                                                                                                                                                                                                                   |0.0  |(13586,[0,1,2,66,87,94,144,222,416,675,1464,4381,4690],[61.0,1.1983087557954262,1.2464154437187664,7.39758782234223,3.8385558535462736,3.7977338590260183,4.256599743861298,4.7140245909001735,5.367951058306837,5.792834252272104,6.546606054648484,7.52743530766021,7.52743530766021])                                                                                                                                                                                                                                                                                                                                                                                                                                     |\n",
            "|spam |FreeMsg Hey there darling it's been 3 week's now and no word back! I'd like some fun you up for it still? Tb ok! XxX std chgs to send, £1.50 to rcv        |147         |[freemsg, hey, there, darling, it's, been, 3, week's, now, and, no, word, back!, i'd, like, some, fun, you, up, for, it, still?, tb, ok!, xxx, std, chgs, to, send,, £1.50, to, rcv]    |[freemsg, hey, there, darling, it's, been, 3, week's, now, and, no, word, back!, i'd, like, some, fun, you, up, for, it, still?, tb, ok!, xxx, std, chgs, to, send,, £1.50, to, rcv] |(13585,[0,2,5,9,18,42,44,48,50,88,91,100,121,129,226,389,457,475,604,842,1529,1883,2241,2875,3750,4129,4758,4848,4851,5340,8692],[2.0,1.0,1.0,1.0,1.0,1.0,1.0,1.0,1.0,1.0,1.0,1.0,1.0,1.0,1.0,1.0,1.0,1.0,1.0,1.0,1.0,1.0,1.0,1.0,1.0,1.0,1.0,1.0,1.0,1.0,1.0])|(13585,[0,2,5,9,18,42,44,48,50,88,91,100,121,129,226,389,457,475,604,842,1529,1883,2241,2875,3750,4129,4758,4848,4851,5340,8692],[2.3966175115908523,1.3683399191682768,1.9565495064704403,2.1963281182891823,2.619694436726587,3.080870151848757,3.1005946571965355,3.137109870171633,3.2278848948105665,3.805766030723283,3.7897656893768414,3.8553629718626548,4.093448103175064,4.148710781850113,4.734227298217693,5.258751766341845,5.49055338039917,5.49055338039917,5.7356758384321544,6.061098238866783,6.680137447273006,6.8342881271002645,7.016609683894219,7.239753235208429,7.52743530766021,7.52743530766021,7.52743530766021,7.52743530766021,7.52743530766021,7.52743530766021,7.9329004157683745])|1.0  |(13586,[0,1,3,6,10,19,43,45,49,51,89,92,101,122,130,227,390,458,476,605,843,1530,1884,2242,2876,3751,4130,4759,4849,4852,5341,8693],[147.0,2.3966175115908523,1.3683399191682768,1.9565495064704403,2.1963281182891823,2.619694436726587,3.080870151848757,3.1005946571965355,3.137109870171633,3.2278848948105665,3.805766030723283,3.7897656893768414,3.8553629718626548,4.093448103175064,4.148710781850113,4.734227298217693,5.258751766341845,5.49055338039917,5.49055338039917,5.7356758384321544,6.061098238866783,6.680137447273006,6.8342881271002645,7.016609683894219,7.239753235208429,7.52743530766021,7.52743530766021,7.52743530766021,7.52743530766021,7.52743530766021,7.52743530766021,7.9329004157683745])|\n",
            "+-----+-----------------------------------------------------------------------------------------------------------------------------------------------------------+------------+----------------------------------------------------------------------------------------------------------------------------------------------------------------------------------------+-------------------------------------------------------------------------------------------------------------------------------------------------------------------------------------+---------------------------------------------------------------------------------------------------------------------------------------------------------------------------------------------------------------------------------------------------------------+--------------------------------------------------------------------------------------------------------------------------------------------------------------------------------------------------------------------------------------------------------------------------------------------------------------------------------------------------------------------------------------------------------------------------------------------------------------------------------------------------------------------------------------------------------------------------------------------------------------------------------------------------------------------------------------------------------------------+-----+-----------------------------------------------------------------------------------------------------------------------------------------------------------------------------------------------------------------------------------------------------------------------------------------------------------------------------------------------------------------------------------------------------------------------------------------------------------------------------------------------------------------------------------------------------------------------------------------------------------------------------------------------------------------------------------------------------------------------------+\n",
            "only showing top 6 rows\n",
            "\n"
          ]
        }
      ],
      "source": [
        "assembler = VectorAssembler(\n",
        "    inputCols=[\"lengthoftext\",\"tf-idf_features\"],\n",
        "    outputCol='features')\n",
        "\n",
        "\n",
        "df9=assembler.transform(df8)\n",
        "\n",
        "df9.show(6,truncate=False)"
      ]
    },
    {
      "cell_type": "markdown",
      "id": "9775d494",
      "metadata": {
        "id": "9775d494"
      },
      "source": [
        "## The Model\n",
        "- Create a <b>NaiveBayes</b> classifier with the default parameters."
      ]
    },
    {
      "cell_type": "code",
      "execution_count": 70,
      "id": "57af0d5d",
      "metadata": {
        "id": "57af0d5d"
      },
      "outputs": [],
      "source": [
        "from pyspark.ml.classification import NaiveBayes \n",
        "nb = NaiveBayes(modelType=\"multinomial\")"
      ]
    },
    {
      "cell_type": "code",
      "execution_count": 71,
      "id": "54c7384e",
      "metadata": {
        "id": "54c7384e"
      },
      "outputs": [],
      "source": [
        "nbmodel = nb.fit(df9)"
      ]
    },
    {
      "cell_type": "code",
      "source": [
        "#from pyspark.ml.evaluation import MulticlassClassificationEvaluator\n",
        "#evaluator = MulticlassClassificationEvaluator(labelCol=\"label\", predictionCol=\"pr ediction\", metricName=\"accuracy\") \n",
        "#nbaccuracy = evaluator.evaluate(df9) \n",
        "#print(\"Test accuracy = \" + str(nbaccuracy))"
      ],
      "metadata": {
        "id": "9HLO0qFfuSgo"
      },
      "id": "9HLO0qFfuSgo",
      "execution_count": 73,
      "outputs": []
    },
    {
      "cell_type": "markdown",
      "id": "dc14de63",
      "metadata": {
        "id": "dc14de63"
      },
      "source": [
        "## Pipeline\n",
        "### Create a pipeline model contains all the steps starting from the Tokenizer to the NaiveBays classifier."
      ]
    },
    {
      "cell_type": "code",
      "execution_count": 74,
      "id": "8ee0d1ca",
      "metadata": {
        "id": "8ee0d1ca"
      },
      "outputs": [],
      "source": [
        "from pyspark.ml import Pipeline \n",
        "\n",
        "indexers = [tokenizer,remover,cv,idf,stringIndexer,assembler,nb ]\n",
        "pipeline = Pipeline(stages=indexers)"
      ]
    },
    {
      "cell_type": "code",
      "execution_count": null,
      "id": "7f82bab0",
      "metadata": {
        "id": "7f82bab0"
      },
      "outputs": [],
      "source": [
        ""
      ]
    },
    {
      "cell_type": "markdown",
      "id": "f5d7efbe",
      "metadata": {
        "id": "f5d7efbe"
      },
      "source": [
        "### Split your data to trian and test data with ratios 0.7 and 0.3 respectively."
      ]
    },
    {
      "cell_type": "code",
      "execution_count": 75,
      "id": "2843d997",
      "metadata": {
        "id": "2843d997"
      },
      "outputs": [],
      "source": [
        "train , test = df3.randomSplit([0.7,0.3], 42) "
      ]
    },
    {
      "cell_type": "markdown",
      "id": "8bcea576",
      "metadata": {
        "id": "8bcea576"
      },
      "source": [
        "### Fit your Pipeline model to the training data"
      ]
    },
    {
      "cell_type": "code",
      "execution_count": 77,
      "id": "3c5d4681",
      "metadata": {
        "id": "3c5d4681"
      },
      "outputs": [],
      "source": [
        "final_model=pipeline.fit(train)"
      ]
    },
    {
      "cell_type": "markdown",
      "id": "228a3eb1",
      "metadata": {
        "id": "228a3eb1"
      },
      "source": [
        "### Perform predictions on tests dataframe"
      ]
    },
    {
      "cell_type": "code",
      "execution_count": 80,
      "id": "14f4aab5",
      "metadata": {
        "id": "14f4aab5"
      },
      "outputs": [],
      "source": [
        "final_test=final_model.transform(test)"
      ]
    },
    {
      "cell_type": "markdown",
      "id": "bce2885f",
      "metadata": {
        "id": "bce2885f"
      },
      "source": [
        "### Print the schema of the prediction dataframe"
      ]
    },
    {
      "cell_type": "code",
      "source": [
        "final_test.printSchema()"
      ],
      "metadata": {
        "colab": {
          "base_uri": "https://localhost:8080/"
        },
        "id": "cKv4fX9BwdiS",
        "outputId": "e4ab3bde-23a5-49ec-f8c6-264313a6b0e2"
      },
      "id": "cKv4fX9BwdiS",
      "execution_count": 81,
      "outputs": [
        {
          "output_type": "stream",
          "name": "stdout",
          "text": [
            "root\n",
            " |-- class: string (nullable = true)\n",
            " |-- text: string (nullable = true)\n",
            " |-- lengthoftext: integer (nullable = true)\n",
            " |-- words: array (nullable = true)\n",
            " |    |-- element: string (containsNull = true)\n",
            " |-- stopwords: array (nullable = true)\n",
            " |    |-- element: string (containsNull = true)\n",
            " |-- CV: vector (nullable = true)\n",
            " |-- tf-idf_features: vector (nullable = true)\n",
            " |-- label: double (nullable = false)\n",
            " |-- features: vector (nullable = true)\n",
            " |-- rawPrediction: vector (nullable = true)\n",
            " |-- probability: vector (nullable = true)\n",
            " |-- prediction: double (nullable = false)\n",
            "\n"
          ]
        }
      ]
    },
    {
      "cell_type": "markdown",
      "id": "57f27055",
      "metadata": {
        "id": "57f27055"
      },
      "source": [
        "## Model Evaluation\n",
        "- Use <b>MulticlassClassificationEvaluator</b> to calculate the <b>f1_score</b>."
      ]
    },
    {
      "cell_type": "code",
      "execution_count": 83,
      "id": "61911086",
      "metadata": {
        "colab": {
          "base_uri": "https://localhost:8080/"
        },
        "id": "61911086",
        "outputId": "66b59ac2-2757-4168-cbc4-24f8d8d1130d"
      },
      "outputs": [
        {
          "output_type": "stream",
          "name": "stdout",
          "text": [
            "Test accuracy = 0.9737387349839617\n"
          ]
        }
      ],
      "source": [
        "from pyspark.ml.evaluation import MulticlassClassificationEvaluator\n",
        "evaluator = MulticlassClassificationEvaluator(labelCol=\"label\", predictionCol=\"prediction\", metricName=\"f1\") \n",
        "nbaccuracy = evaluator.evaluate(final_test) \n",
        "print(\"Test accuracy = \" + str(nbaccuracy))"
      ]
    },
    {
      "cell_type": "code",
      "execution_count": null,
      "id": "af1f9ba1",
      "metadata": {
        "id": "af1f9ba1",
        "outputId": "4cfda036-24bd-4c80-fae4-c6dd0535f9d4"
      },
      "outputs": [
        {
          "name": "stdout",
          "output_type": "stream",
          "text": [
            "f1_score is: 0.9664707489549014\n"
          ]
        }
      ],
      "source": [
        ""
      ]
    },
    {
      "cell_type": "markdown",
      "id": "e00e7b53",
      "metadata": {
        "id": "e00e7b53"
      },
      "source": [
        "# GOOD LUCK\n",
        "<b><font color='GREEN'>AI-PRO Spark Team ITI</font></b>"
      ]
    },
    {
      "cell_type": "markdown",
      "id": "0e065922",
      "metadata": {
        "id": "0e065922"
      },
      "source": [
        "![image-3.png](attachment:image-3.png)"
      ]
    }
  ],
  "metadata": {
    "kernelspec": {
      "display_name": "Python 3",
      "language": "python",
      "name": "python3"
    },
    "language_info": {
      "codemirror_mode": {
        "name": "ipython",
        "version": 3
      },
      "file_extension": ".py",
      "mimetype": "text/x-python",
      "name": "python",
      "nbconvert_exporter": "python",
      "pygments_lexer": "ipython3",
      "version": "3.8.8"
    },
    "colab": {
      "name": "Spark and Python for Big Data Final Exam-Corrective.ipynb",
      "provenance": [],
      "collapsed_sections": []
    }
  },
  "nbformat": 4,
  "nbformat_minor": 5
}